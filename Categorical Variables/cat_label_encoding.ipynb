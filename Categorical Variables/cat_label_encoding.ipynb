{
 "cells": [
  {
   "cell_type": "markdown",
   "id": "71966229-4352-476e-afe9-1a50ce67b094",
   "metadata": {},
   "source": [
    "Note: Label Encoding can be used directly in tree-based models. However, it cannot be used in linear models, SVM or neural networks as they expect data to be normalized, use One-hot Encoding instead."
   ]
  },
  {
   "cell_type": "code",
   "execution_count": 1,
   "id": "7acb9bad-55e2-420f-916d-572a4b49f2d9",
   "metadata": {},
   "outputs": [],
   "source": [
    "import pandas as pd\n",
    "import numpy as np\n",
    "import matplotlib.pyplot as plt\n",
    "import seaborn as sns\n",
    "import xgboost as xgb\n",
    "from sklearn import metrics\n",
    "from sklearn import preprocessing"
   ]
  },
  {
   "cell_type": "code",
   "execution_count": 2,
   "id": "fd4368b3-e6d8-4004-8c65-3d642c622085",
   "metadata": {},
   "outputs": [
    {
     "data": {
      "text/html": [
       "<div>\n",
       "<style scoped>\n",
       "    .dataframe tbody tr th:only-of-type {\n",
       "        vertical-align: middle;\n",
       "    }\n",
       "\n",
       "    .dataframe tbody tr th {\n",
       "        vertical-align: top;\n",
       "    }\n",
       "\n",
       "    .dataframe thead th {\n",
       "        text-align: right;\n",
       "    }\n",
       "</style>\n",
       "<table border=\"1\" class=\"dataframe\">\n",
       "  <thead>\n",
       "    <tr style=\"text-align: right;\">\n",
       "      <th></th>\n",
       "      <th>id</th>\n",
       "      <th>bin_0</th>\n",
       "      <th>bin_1</th>\n",
       "      <th>bin_2</th>\n",
       "      <th>bin_3</th>\n",
       "      <th>bin_4</th>\n",
       "      <th>nom_0</th>\n",
       "      <th>nom_1</th>\n",
       "      <th>nom_2</th>\n",
       "      <th>nom_3</th>\n",
       "      <th>...</th>\n",
       "      <th>ord_0</th>\n",
       "      <th>ord_1</th>\n",
       "      <th>ord_2</th>\n",
       "      <th>ord_3</th>\n",
       "      <th>ord_4</th>\n",
       "      <th>ord_5</th>\n",
       "      <th>day</th>\n",
       "      <th>month</th>\n",
       "      <th>target</th>\n",
       "      <th>kfold</th>\n",
       "    </tr>\n",
       "  </thead>\n",
       "  <tbody>\n",
       "    <tr>\n",
       "      <th>0</th>\n",
       "      <td>499703</td>\n",
       "      <td>0.0</td>\n",
       "      <td>0.0</td>\n",
       "      <td>0.0</td>\n",
       "      <td>F</td>\n",
       "      <td>Y</td>\n",
       "      <td>Blue</td>\n",
       "      <td>Trapezoid</td>\n",
       "      <td>Hamster</td>\n",
       "      <td>Russia</td>\n",
       "      <td>...</td>\n",
       "      <td>2.0</td>\n",
       "      <td>Expert</td>\n",
       "      <td>Warm</td>\n",
       "      <td>a</td>\n",
       "      <td>H</td>\n",
       "      <td>Wr</td>\n",
       "      <td>3.0</td>\n",
       "      <td>1.0</td>\n",
       "      <td>0</td>\n",
       "      <td>0</td>\n",
       "    </tr>\n",
       "    <tr>\n",
       "      <th>1</th>\n",
       "      <td>91504</td>\n",
       "      <td>0.0</td>\n",
       "      <td>0.0</td>\n",
       "      <td>0.0</td>\n",
       "      <td>F</td>\n",
       "      <td>N</td>\n",
       "      <td>Red</td>\n",
       "      <td>NaN</td>\n",
       "      <td>Hamster</td>\n",
       "      <td>Costa Rica</td>\n",
       "      <td>...</td>\n",
       "      <td>3.0</td>\n",
       "      <td>Novice</td>\n",
       "      <td>NaN</td>\n",
       "      <td>n</td>\n",
       "      <td>P</td>\n",
       "      <td>IS</td>\n",
       "      <td>2.0</td>\n",
       "      <td>5.0</td>\n",
       "      <td>0</td>\n",
       "      <td>0</td>\n",
       "    </tr>\n",
       "    <tr>\n",
       "      <th>2</th>\n",
       "      <td>464548</td>\n",
       "      <td>0.0</td>\n",
       "      <td>0.0</td>\n",
       "      <td>0.0</td>\n",
       "      <td>F</td>\n",
       "      <td>Y</td>\n",
       "      <td>Blue</td>\n",
       "      <td>Triangle</td>\n",
       "      <td>Dog</td>\n",
       "      <td>Canada</td>\n",
       "      <td>...</td>\n",
       "      <td>3.0</td>\n",
       "      <td>Expert</td>\n",
       "      <td>Lava Hot</td>\n",
       "      <td>i</td>\n",
       "      <td>C</td>\n",
       "      <td>NaN</td>\n",
       "      <td>2.0</td>\n",
       "      <td>10.0</td>\n",
       "      <td>0</td>\n",
       "      <td>0</td>\n",
       "    </tr>\n",
       "    <tr>\n",
       "      <th>3</th>\n",
       "      <td>368997</td>\n",
       "      <td>0.0</td>\n",
       "      <td>0.0</td>\n",
       "      <td>NaN</td>\n",
       "      <td>F</td>\n",
       "      <td>Y</td>\n",
       "      <td>NaN</td>\n",
       "      <td>Polygon</td>\n",
       "      <td>Lion</td>\n",
       "      <td>Costa Rica</td>\n",
       "      <td>...</td>\n",
       "      <td>3.0</td>\n",
       "      <td>Contributor</td>\n",
       "      <td>Warm</td>\n",
       "      <td>b</td>\n",
       "      <td>I</td>\n",
       "      <td>DN</td>\n",
       "      <td>7.0</td>\n",
       "      <td>2.0</td>\n",
       "      <td>1</td>\n",
       "      <td>0</td>\n",
       "    </tr>\n",
       "    <tr>\n",
       "      <th>4</th>\n",
       "      <td>553645</td>\n",
       "      <td>0.0</td>\n",
       "      <td>0.0</td>\n",
       "      <td>0.0</td>\n",
       "      <td>F</td>\n",
       "      <td>Y</td>\n",
       "      <td>Blue</td>\n",
       "      <td>Circle</td>\n",
       "      <td>Axolotl</td>\n",
       "      <td>Costa Rica</td>\n",
       "      <td>...</td>\n",
       "      <td>1.0</td>\n",
       "      <td>Contributor</td>\n",
       "      <td>Freezing</td>\n",
       "      <td>e</td>\n",
       "      <td>N</td>\n",
       "      <td>TP</td>\n",
       "      <td>7.0</td>\n",
       "      <td>2.0</td>\n",
       "      <td>0</td>\n",
       "      <td>0</td>\n",
       "    </tr>\n",
       "  </tbody>\n",
       "</table>\n",
       "<p>5 rows × 26 columns</p>\n",
       "</div>"
      ],
      "text/plain": [
       "       id  bin_0  bin_1  bin_2 bin_3 bin_4 nom_0      nom_1    nom_2  \\\n",
       "0  499703    0.0    0.0    0.0     F     Y  Blue  Trapezoid  Hamster   \n",
       "1   91504    0.0    0.0    0.0     F     N   Red        NaN  Hamster   \n",
       "2  464548    0.0    0.0    0.0     F     Y  Blue   Triangle      Dog   \n",
       "3  368997    0.0    0.0    NaN     F     Y   NaN    Polygon     Lion   \n",
       "4  553645    0.0    0.0    0.0     F     Y  Blue     Circle  Axolotl   \n",
       "\n",
       "        nom_3  ... ord_0        ord_1     ord_2 ord_3 ord_4 ord_5  day month  \\\n",
       "0      Russia  ...   2.0       Expert      Warm     a     H    Wr  3.0   1.0   \n",
       "1  Costa Rica  ...   3.0       Novice       NaN     n     P    IS  2.0   5.0   \n",
       "2      Canada  ...   3.0       Expert  Lava Hot     i     C   NaN  2.0  10.0   \n",
       "3  Costa Rica  ...   3.0  Contributor      Warm     b     I    DN  7.0   2.0   \n",
       "4  Costa Rica  ...   1.0  Contributor  Freezing     e     N    TP  7.0   2.0   \n",
       "\n",
       "  target kfold  \n",
       "0      0     0  \n",
       "1      0     0  \n",
       "2      0     0  \n",
       "3      1     0  \n",
       "4      0     0  \n",
       "\n",
       "[5 rows x 26 columns]"
      ]
     },
     "execution_count": 2,
     "metadata": {},
     "output_type": "execute_result"
    }
   ],
   "source": [
    "df = pd.read_csv('cat_train_folds.csv')\n",
    "df.head()"
   ]
  },
  {
   "cell_type": "code",
   "execution_count": 3,
   "id": "5d9c7b71-d490-494a-bb48-d5e1344db79d",
   "metadata": {},
   "outputs": [
    {
     "data": {
      "text/plain": [
       "Text(0, 0.5, 'count')"
      ]
     },
     "execution_count": 3,
     "metadata": {},
     "output_type": "execute_result"
    },
    {
     "data": {
      "image/png": "[encoded data removed]",
      "text/plain": [
       "<Figure size 432x288 with 1 Axes>"
      ]
     },
     "metadata": {
      "needs_background": "light"
     },
     "output_type": "display_data"
    }
   ],
   "source": [
    "# visualize the distribution of labels\n",
    "b = sns.countplot(x='target', data=df)\n",
    "b.set_xlabel('label', fontsize=20)\n",
    "b.set_ylabel('count', fontsize=20)"
   ]
  },
  {
   "cell_type": "markdown",
   "id": "c716583f-a2b2-4217-8d48-892aa2acad7d",
   "metadata": {},
   "source": [
    "The target is skewed, hence use AUC as the evaluation metric."
   ]
  },
  {
   "cell_type": "code",
   "execution_count": 4,
   "id": "c1fbc28a-9066-46af-a672-5fcc64b87a05",
   "metadata": {},
   "outputs": [
    {
     "data": {
      "text/plain": [
       "Freezing       142726\n",
       "Warm           124239\n",
       "Cold            97822\n",
       "Boiling Hot     84790\n",
       "Hot             67508\n",
       "Lava Hot        64840\n",
       "Name: ord_2, dtype: int64"
      ]
     },
     "execution_count": 4,
     "metadata": {},
     "output_type": "execute_result"
    }
   ],
   "source": [
    "df.ord_2.value_counts()"
   ]
  },
  {
   "cell_type": "code",
   "execution_count": 5,
   "id": "e6c2ac15-b2ed-4fba-b686-5bcbbddc9dc2",
   "metadata": {},
   "outputs": [],
   "source": [
    "# for ordinal variables\n",
    "#mapping = {\"Freezing\": 0, \n",
    "#           \"Warm\": 1, \n",
    "#           \"Cold\": 2, \n",
    "#           \"Boiling Hot\": 3, \n",
    "#           \"Hot\": 4,\n",
    "#           \"Lava Hot\": 5\n",
    "#}\n",
    "#df.loc[:, \"ord_2\"] = df.ord_2.map(mapping)"
   ]
  },
  {
   "cell_type": "code",
   "execution_count": 9,
   "id": "a0a07bdc-194a-49e7-8449-de3f902f3930",
   "metadata": {},
   "outputs": [],
   "source": [
    "# xgb with label encoding\n",
    "def run(fold):\n",
    "    features = [f for f in df.columns if f not in ('id','target','kfold')]\n",
    "    \n",
    "    # fill all NaN values with 'NONE'\n",
    "    for feature in features:\n",
    "        df.loc[:, feature] = df[feature].astype(str).fillna('NONE')\n",
    "    \n",
    "    # label encode the features\n",
    "    for col in features:\n",
    "        # initialize LabelEncoder for each feature column\n",
    "        lbl = preprocessing.LabelEncoder()\n",
    "        # fit label encoder on all data\n",
    "        lbl.fit(df[col])\n",
    "        # transform all the data\n",
    "        df.loc[:, col] = lbl.transform(df[col])\n",
    "        \n",
    "    df_train = df[df.kfold != fold].reset_index(drop=True) \n",
    "    df_valid = df[df.kfold == fold].reset_index(drop=True) \n",
    "    x_train = df_train[features].values\n",
    "    x_valid = df_valid[features].values\n",
    "    \n",
    "    # initialize xgb model\n",
    "    model = xgb.XGBClassifier(max_depth=7, n_estimators=200)\n",
    "    \n",
    "    # fit model on training data (ohe)\n",
    "    model.fit(x_train, df_train.target.values)\n",
    "\n",
    "    # predict on validation data\n",
    "    # we need the probability values as we are calculating AUC \n",
    "    # we will use the probability of 1s\n",
    "    valid_preds = model.predict_proba(x_valid)[:, 1]\n",
    "    \n",
    "    # get roc auc score\n",
    "    auc = metrics.roc_auc_score(df_valid.target.values, valid_preds)\n",
    "    \n",
    "    # print auc\n",
    "    print(f\"Fold = {fold}, AUC = {auc}\")"
   ]
  },
  {
   "cell_type": "code",
   "execution_count": 10,
   "id": "f9f7eba7-f823-4744-919f-1661f8d8cbea",
   "metadata": {},
   "outputs": [
    {
     "name": "stdout",
     "output_type": "stream",
     "text": [
      "Fold = 0, AUC = 0.7617090984573569\n",
      "Fold = 1, AUC = 0.7602548852332586\n",
      "Fold = 2, AUC = 0.761222848535793\n",
      "Fold = 3, AUC = 0.7608917754999943\n",
      "Fold = 4, AUC = 0.7606744739922326\n"
     ]
    }
   ],
   "source": [
    "for fold_ in range(5):\n",
    "    run(fold_)"
   ]
  },
  {
   "cell_type": "code",
   "execution_count": null,
   "id": "2baf95f9-cc2e-45f4-a23a-38809b802e2d",
   "metadata": {},
   "outputs": [],
   "source": []
  }
 ],
 "metadata": {
  "kernelspec": {
   "display_name": "Python 3 (ipykernel)",
   "language": "python",
   "name": "python3"
  },
  "language_info": {
   "codemirror_mode": {
    "name": "ipython",
    "version": 3
   },
   "file_extension": ".py",
   "mimetype": "text/x-python",
   "name": "python",
   "nbconvert_exporter": "python",
   "pygments_lexer": "ipython3",
   "version": "3.9.7"
  }
 },
 "nbformat": 4,
 "nbformat_minor": 5
}

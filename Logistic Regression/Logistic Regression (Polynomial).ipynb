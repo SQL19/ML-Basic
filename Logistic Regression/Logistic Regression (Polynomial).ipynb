{
 "cells": [
  {
   "cell_type": "code",
   "execution_count": 1,
   "id": "3ffe0673-0845-42f1-b843-126768dd01e6",
   "metadata": {},
   "outputs": [],
   "source": [
    "import numpy as np\n",
    "import pandas as pd\n",
    "import matplotlib.pyplot as plt"
   ]
  },
  {
   "cell_type": "markdown",
   "id": "1ddfcef9-e662-40a1-b546-07c09c569ab8",
   "metadata": {},
   "source": [
    "#### Load Data"
   ]
  },
  {
   "cell_type": "code",
   "execution_count": 4,
   "id": "4b2124cd-dc6d-4b7d-b969-55e7d2db91d4",
   "metadata": {},
   "outputs": [
    {
     "data": {
      "text/html": [
       "<div>\n",
       "<style scoped>\n",
       "    .dataframe tbody tr th:only-of-type {\n",
       "        vertical-align: middle;\n",
       "    }\n",
       "\n",
       "    .dataframe tbody tr th {\n",
       "        vertical-align: top;\n",
       "    }\n",
       "\n",
       "    .dataframe thead th {\n",
       "        text-align: right;\n",
       "    }\n",
       "</style>\n",
       "<table border=\"1\" class=\"dataframe\">\n",
       "  <thead>\n",
       "    <tr style=\"text-align: right;\">\n",
       "      <th></th>\n",
       "      <th>Test1</th>\n",
       "      <th>Test2</th>\n",
       "      <th>Accepted</th>\n",
       "    </tr>\n",
       "  </thead>\n",
       "  <tbody>\n",
       "    <tr>\n",
       "      <th>0</th>\n",
       "      <td>0.051267</td>\n",
       "      <td>0.69956</td>\n",
       "      <td>1</td>\n",
       "    </tr>\n",
       "    <tr>\n",
       "      <th>1</th>\n",
       "      <td>-0.092742</td>\n",
       "      <td>0.68494</td>\n",
       "      <td>1</td>\n",
       "    </tr>\n",
       "    <tr>\n",
       "      <th>2</th>\n",
       "      <td>-0.213710</td>\n",
       "      <td>0.69225</td>\n",
       "      <td>1</td>\n",
       "    </tr>\n",
       "    <tr>\n",
       "      <th>3</th>\n",
       "      <td>-0.375000</td>\n",
       "      <td>0.50219</td>\n",
       "      <td>1</td>\n",
       "    </tr>\n",
       "    <tr>\n",
       "      <th>4</th>\n",
       "      <td>-0.513250</td>\n",
       "      <td>0.46564</td>\n",
       "      <td>1</td>\n",
       "    </tr>\n",
       "  </tbody>\n",
       "</table>\n",
       "</div>"
      ],
      "text/plain": [
       "      Test1    Test2  Accepted\n",
       "0  0.051267  0.69956         1\n",
       "1 -0.092742  0.68494         1\n",
       "2 -0.213710  0.69225         1\n",
       "3 -0.375000  0.50219         1\n",
       "4 -0.513250  0.46564         1"
      ]
     },
     "execution_count": 4,
     "metadata": {},
     "output_type": "execute_result"
    }
   ],
   "source": [
    "data = pd.read_csv('ex2data2.txt', names = ['Test1', 'Test2', 'Accepted'])\n",
    "data.head()"
   ]
  },
  {
   "cell_type": "code",
   "execution_count": 6,
   "id": "a705a091-63ef-4732-8eb7-d34b561c6f84",
   "metadata": {},
   "outputs": [
    {
     "data": {
      "image/png": "[encoded data removed]",
      "text/plain": [
       "<Figure size 432x288 with 1 Axes>"
      ]
     },
     "metadata": {
      "needs_background": "light"
     },
     "output_type": "display_data"
    }
   ],
   "source": [
    "fig, ax = plt.subplots()\n",
    "ax.scatter(data[data['Accepted']==0]['Test1'], data[data['Accepted']==0]['Test2'], c='r', marker='x', label='y=0')\n",
    "ax.scatter(data[data['Accepted']==1]['Test1'], data[data['Accepted']==1]['Test2'], c='b', marker='o', label='y=1')\n",
    "ax.legend()\n",
    "\n",
    "ax.set(xlabel='Test1',\n",
    "       ylabel='Test2')\n",
    "plt.show()"
   ]
  },
  {
   "cell_type": "markdown",
   "id": "c67066e3-1487-4d37-b7bf-9e5a0be56b4b",
   "metadata": {},
   "source": [
    "#### Logistic Regression "
   ]
  },
  {
   "cell_type": "code",
   "execution_count": 11,
   "id": "ed23c844-fe8d-49a2-ad9e-56079ef91d17",
   "metadata": {},
   "outputs": [],
   "source": [
    "def feature_mapping(x1, x2, power):\n",
    "    data = {}\n",
    "    for i in np.arange(power+1):\n",
    "        for j in np.arange(i+1):\n",
    "            data['F{}{}'.format(i-j,j)]=np.power(x1,i-j)*np.power(x2,j)\n",
    "    return pd.DataFrame(data)"
   ]
  },
  {
   "cell_type": "code",
   "execution_count": 9,
   "id": "b925d892-93a3-4956-b069-0cf0bba180f0",
   "metadata": {},
   "outputs": [],
   "source": [
    "x1 = data['Test1']\n",
    "x2 = data['Test2']"
   ]
  },
  {
   "cell_type": "code",
   "execution_count": 12,
   "id": "f5426676-5e09-4921-9517-a8e1b5d1b5aa",
   "metadata": {},
   "outputs": [
    {
     "data": {
      "text/html": [
       "<div>\n",
       "<style scoped>\n",
       "    .dataframe tbody tr th:only-of-type {\n",
       "        vertical-align: middle;\n",
       "    }\n",
       "\n",
       "    .dataframe tbody tr th {\n",
       "        vertical-align: top;\n",
       "    }\n",
       "\n",
       "    .dataframe thead th {\n",
       "        text-align: right;\n",
       "    }\n",
       "</style>\n",
       "<table border=\"1\" class=\"dataframe\">\n",
       "  <thead>\n",
       "    <tr style=\"text-align: right;\">\n",
       "      <th></th>\n",
       "      <th>F00</th>\n",
       "      <th>F10</th>\n",
       "      <th>F01</th>\n",
       "      <th>F20</th>\n",
       "      <th>F11</th>\n",
       "      <th>F02</th>\n",
       "      <th>F30</th>\n",
       "      <th>F21</th>\n",
       "      <th>F12</th>\n",
       "      <th>F03</th>\n",
       "      <th>...</th>\n",
       "      <th>F23</th>\n",
       "      <th>F14</th>\n",
       "      <th>F05</th>\n",
       "      <th>F60</th>\n",
       "      <th>F51</th>\n",
       "      <th>F42</th>\n",
       "      <th>F33</th>\n",
       "      <th>F24</th>\n",
       "      <th>F15</th>\n",
       "      <th>F06</th>\n",
       "    </tr>\n",
       "  </thead>\n",
       "  <tbody>\n",
       "    <tr>\n",
       "      <th>0</th>\n",
       "      <td>1.0</td>\n",
       "      <td>0.051267</td>\n",
       "      <td>0.69956</td>\n",
       "      <td>0.002628</td>\n",
       "      <td>0.035864</td>\n",
       "      <td>0.489384</td>\n",
       "      <td>0.000135</td>\n",
       "      <td>0.001839</td>\n",
       "      <td>0.025089</td>\n",
       "      <td>0.342354</td>\n",
       "      <td>...</td>\n",
       "      <td>0.000900</td>\n",
       "      <td>0.012278</td>\n",
       "      <td>0.167542</td>\n",
       "      <td>1.815630e-08</td>\n",
       "      <td>2.477505e-07</td>\n",
       "      <td>0.000003</td>\n",
       "      <td>0.000046</td>\n",
       "      <td>0.000629</td>\n",
       "      <td>0.008589</td>\n",
       "      <td>0.117206</td>\n",
       "    </tr>\n",
       "    <tr>\n",
       "      <th>1</th>\n",
       "      <td>1.0</td>\n",
       "      <td>-0.092742</td>\n",
       "      <td>0.68494</td>\n",
       "      <td>0.008601</td>\n",
       "      <td>-0.063523</td>\n",
       "      <td>0.469143</td>\n",
       "      <td>-0.000798</td>\n",
       "      <td>0.005891</td>\n",
       "      <td>-0.043509</td>\n",
       "      <td>0.321335</td>\n",
       "      <td>...</td>\n",
       "      <td>0.002764</td>\n",
       "      <td>-0.020412</td>\n",
       "      <td>0.150752</td>\n",
       "      <td>6.362953e-07</td>\n",
       "      <td>-4.699318e-06</td>\n",
       "      <td>0.000035</td>\n",
       "      <td>-0.000256</td>\n",
       "      <td>0.001893</td>\n",
       "      <td>-0.013981</td>\n",
       "      <td>0.103256</td>\n",
       "    </tr>\n",
       "    <tr>\n",
       "      <th>2</th>\n",
       "      <td>1.0</td>\n",
       "      <td>-0.213710</td>\n",
       "      <td>0.69225</td>\n",
       "      <td>0.045672</td>\n",
       "      <td>-0.147941</td>\n",
       "      <td>0.479210</td>\n",
       "      <td>-0.009761</td>\n",
       "      <td>0.031616</td>\n",
       "      <td>-0.102412</td>\n",
       "      <td>0.331733</td>\n",
       "      <td>...</td>\n",
       "      <td>0.015151</td>\n",
       "      <td>-0.049077</td>\n",
       "      <td>0.158970</td>\n",
       "      <td>9.526844e-05</td>\n",
       "      <td>-3.085938e-04</td>\n",
       "      <td>0.001000</td>\n",
       "      <td>-0.003238</td>\n",
       "      <td>0.010488</td>\n",
       "      <td>-0.033973</td>\n",
       "      <td>0.110047</td>\n",
       "    </tr>\n",
       "    <tr>\n",
       "      <th>3</th>\n",
       "      <td>1.0</td>\n",
       "      <td>-0.375000</td>\n",
       "      <td>0.50219</td>\n",
       "      <td>0.140625</td>\n",
       "      <td>-0.188321</td>\n",
       "      <td>0.252195</td>\n",
       "      <td>-0.052734</td>\n",
       "      <td>0.070620</td>\n",
       "      <td>-0.094573</td>\n",
       "      <td>0.126650</td>\n",
       "      <td>...</td>\n",
       "      <td>0.017810</td>\n",
       "      <td>-0.023851</td>\n",
       "      <td>0.031940</td>\n",
       "      <td>2.780914e-03</td>\n",
       "      <td>-3.724126e-03</td>\n",
       "      <td>0.004987</td>\n",
       "      <td>-0.006679</td>\n",
       "      <td>0.008944</td>\n",
       "      <td>-0.011978</td>\n",
       "      <td>0.016040</td>\n",
       "    </tr>\n",
       "    <tr>\n",
       "      <th>4</th>\n",
       "      <td>1.0</td>\n",
       "      <td>-0.513250</td>\n",
       "      <td>0.46564</td>\n",
       "      <td>0.263426</td>\n",
       "      <td>-0.238990</td>\n",
       "      <td>0.216821</td>\n",
       "      <td>-0.135203</td>\n",
       "      <td>0.122661</td>\n",
       "      <td>-0.111283</td>\n",
       "      <td>0.100960</td>\n",
       "      <td>...</td>\n",
       "      <td>0.026596</td>\n",
       "      <td>-0.024128</td>\n",
       "      <td>0.021890</td>\n",
       "      <td>1.827990e-02</td>\n",
       "      <td>-1.658422e-02</td>\n",
       "      <td>0.015046</td>\n",
       "      <td>-0.013650</td>\n",
       "      <td>0.012384</td>\n",
       "      <td>-0.011235</td>\n",
       "      <td>0.010193</td>\n",
       "    </tr>\n",
       "  </tbody>\n",
       "</table>\n",
       "<p>5 rows × 28 columns</p>\n",
       "</div>"
      ],
      "text/plain": [
       "   F00       F10      F01       F20       F11       F02       F30       F21  \\\n",
       "0  1.0  0.051267  0.69956  0.002628  0.035864  0.489384  0.000135  0.001839   \n",
       "1  1.0 -0.092742  0.68494  0.008601 -0.063523  0.469143 -0.000798  0.005891   \n",
       "2  1.0 -0.213710  0.69225  0.045672 -0.147941  0.479210 -0.009761  0.031616   \n",
       "3  1.0 -0.375000  0.50219  0.140625 -0.188321  0.252195 -0.052734  0.070620   \n",
       "4  1.0 -0.513250  0.46564  0.263426 -0.238990  0.216821 -0.135203  0.122661   \n",
       "\n",
       "        F12       F03  ...       F23       F14       F05           F60  \\\n",
       "0  0.025089  0.342354  ...  0.000900  0.012278  0.167542  1.815630e-08   \n",
       "1 -0.043509  0.321335  ...  0.002764 -0.020412  0.150752  6.362953e-07   \n",
       "2 -0.102412  0.331733  ...  0.015151 -0.049077  0.158970  9.526844e-05   \n",
       "3 -0.094573  0.126650  ...  0.017810 -0.023851  0.031940  2.780914e-03   \n",
       "4 -0.111283  0.100960  ...  0.026596 -0.024128  0.021890  1.827990e-02   \n",
       "\n",
       "            F51       F42       F33       F24       F15       F06  \n",
       "0  2.477505e-07  0.000003  0.000046  0.000629  0.008589  0.117206  \n",
       "1 -4.699318e-06  0.000035 -0.000256  0.001893 -0.013981  0.103256  \n",
       "2 -3.085938e-04  0.001000 -0.003238  0.010488 -0.033973  0.110047  \n",
       "3 -3.724126e-03  0.004987 -0.006679  0.008944 -0.011978  0.016040  \n",
       "4 -1.658422e-02  0.015046 -0.013650  0.012384 -0.011235  0.010193  \n",
       "\n",
       "[5 rows x 28 columns]"
      ]
     },
     "execution_count": 12,
     "metadata": {},
     "output_type": "execute_result"
    }
   ],
   "source": [
    "data_mapping = feature_mapping(x1, x2, 6)\n",
    "data_mapping.head()"
   ]
  },
  {
   "cell_type": "code",
   "execution_count": 13,
   "id": "bc8e8101-9412-4deb-a6de-a6d62c55098a",
   "metadata": {},
   "outputs": [],
   "source": [
    "X = data_mapping.values\n",
    "y_ = data.iloc[:, -1]\n",
    "y = y_.values.reshape((len(y_),1))"
   ]
  },
  {
   "cell_type": "code",
   "execution_count": 17,
   "id": "831e0e34-580a-4cce-a4b9-d192f02e74ac",
   "metadata": {},
   "outputs": [],
   "source": [
    "def sigmoid(z):\n",
    "    return 1/(1+np.exp(-z))"
   ]
  },
  {
   "cell_type": "code",
   "execution_count": 14,
   "id": "ff5419bd-d7b1-4738-bfe7-ff5209eb9537",
   "metadata": {},
   "outputs": [],
   "source": [
    "# loss function\n",
    "# to avoid over fillting, adding a regulization item in loss function\n",
    "# regulization type: L1, L2\n",
    "\n",
    "def lossFunction(X, y, theta, lr):\n",
    "    s = sigmoid(X @ theta)\n",
    "    reg = np.sum(np.power(theta[1:],2))*(lr/(2*len(X))) # L2 regulization\n",
    "    return -np.sum(y * np.log(s) + (1-y) * np.log(1-s))/len(X) + reg"
   ]
  },
  {
   "cell_type": "code",
   "execution_count": 15,
   "id": "845c4fce-a537-4881-b42a-3f423d1d5468",
   "metadata": {},
   "outputs": [],
   "source": [
    "theta = np.zeros((X.shape[1],1))\n",
    "lr = 1"
   ]
  },
  {
   "cell_type": "code",
   "execution_count": 24,
   "id": "99f1e83d-6f7d-4682-9ed1-bf6865199003",
   "metadata": {},
   "outputs": [],
   "source": [
    "# gradient desent algorithm\n",
    "def gradientDescent(X, y, theta, alpha, iters, lr):\n",
    "    m = len(X)\n",
    "    loss = []\n",
    "    \n",
    "    for i in range(iters):\n",
    "        reg = theta[1:]*(lr/len(X))\n",
    "        reg = np.insert(reg,0,values=0,axis=0)\n",
    "        s = sigmoid(X @ theta)\n",
    "        theta = theta - (alpha/m) * X.T @ (s-y)\n",
    "        current_loss = lossFunction(X, y, theta, lr)\n",
    "        loss.append(current_loss)\n",
    "        \n",
    "        if i%10000 == 0:\n",
    "                print(current_loss)\n",
    "        \n",
    "    return theta, loss"
   ]
  },
  {
   "cell_type": "code",
   "execution_count": 20,
   "id": "dedf00c5-0a65-472b-bb2f-eb16774c43de",
   "metadata": {},
   "outputs": [],
   "source": [
    "alpha = 0.001\n",
    "iters = 200000\n",
    "lr = 0.001"
   ]
  },
  {
   "cell_type": "code",
   "execution_count": 25,
   "id": "af916dc1-dae4-470e-8897-34692fa41efb",
   "metadata": {},
   "outputs": [
    {
     "name": "stdout",
     "output_type": "stream",
     "text": [
      "0.693134380798985\n",
      "0.623739075192849\n",
      "0.5838807434377024\n",
      "0.554246409227113\n",
      "0.5307549201007973\n",
      "0.5115503262882626\n",
      "0.49552779119569473\n",
      "0.4819470194589525\n",
      "0.470284452769261\n",
      "0.46015776468100844\n",
      "0.4512809771904487\n",
      "0.44343581524143977\n",
      "0.4364526995419595\n",
      "0.4301977887670181\n",
      "0.42456394762775773\n",
      "0.4194643267673339\n",
      "0.4148277172150451\n",
      "0.4105951335106733\n",
      "0.40671726240107314\n",
      "0.40315253116960775\n"
     ]
    }
   ],
   "source": [
    "theta_final, loss = gradientDescent(X, y, theta, alpha, iters, lr)"
   ]
  },
  {
   "cell_type": "code",
   "execution_count": 26,
   "id": "4d2d24b8-efba-49fb-8419-b22be8ed1cce",
   "metadata": {},
   "outputs": [],
   "source": [
    "def predict(X, theta):\n",
    "    prob = sigmoid(X @ theta)\n",
    "    return [1 if x >= 0.5 else 0 for x in prob]"
   ]
  },
  {
   "cell_type": "code",
   "execution_count": 27,
   "id": "254da334-50eb-4433-b7cb-3928405088c4",
   "metadata": {},
   "outputs": [
    {
     "name": "stdout",
     "output_type": "stream",
     "text": [
      "0.8135593220338984\n"
     ]
    }
   ],
   "source": [
    "# prediction accuracy\n",
    "y_pred = np.array(predict(X, theta_final))\n",
    "y_pred = y_pred.reshape(len(y_pred), 1)\n",
    "\n",
    "acc = np.mean(y_pred == y)\n",
    "print(acc)"
   ]
  },
  {
   "cell_type": "markdown",
   "id": "07b1ecc7-6fc6-4827-8779-cafc1af2d902",
   "metadata": {},
   "source": [
    "#### Decision Boundary"
   ]
  },
  {
   "cell_type": "code",
   "execution_count": 28,
   "id": "e8d5b1f1-1a5f-4f69-aea2-5939e8c4a2c3",
   "metadata": {},
   "outputs": [],
   "source": [
    "x = np.linspace(-1.2,1.2,200)\n",
    "xx, yy = np.meshgrid(x,x)\n",
    "z = feature_mapping(xx.ravel(), yy.ravel(), 6).values\n",
    "zz = z @ theta_final\n",
    "zz = zz.reshape(xx.shape)"
   ]
  },
  {
   "cell_type": "code",
   "execution_count": 29,
   "id": "eeaf0891-dd64-4419-bf4e-3a1f919c2ce2",
   "metadata": {},
   "outputs": [
    {
     "data": {
      "text/plain": [
       "<matplotlib.contour.QuadContourSet at 0x7f8231cd5d90>"
      ]
     },
     "execution_count": 29,
     "metadata": {},
     "output_type": "execute_result"
    },
    {
     "data": {
      "image/png": "[encoded data removed]",
      "text/plain": [
       "<Figure size 432x288 with 1 Axes>"
      ]
     },
     "metadata": {
      "needs_background": "light"
     },
     "output_type": "display_data"
    }
   ],
   "source": [
    "fig, ax = plt.subplots()\n",
    "ax.scatter(data[data['Accepted']==0]['Test1'], data[data['Accepted']==0]['Test2'], c='r', marker='x', label='y=0')\n",
    "ax.scatter(data[data['Accepted']==1]['Test1'], data[data['Accepted']==1]['Test2'], c='b', marker='o', label='y=1')\n",
    "ax.legend()\n",
    "ax.set(xlabel='Test1',\n",
    "       ylabel='Test2')\n",
    "plt.contour(xx,yy,zz,0)"
   ]
  },
  {
   "cell_type": "code",
   "execution_count": null,
   "id": "adcc220a-06cb-4ff8-9c6e-3d0ba70cc109",
   "metadata": {},
   "outputs": [],
   "source": []
  }
 ],
 "metadata": {
  "kernelspec": {
   "display_name": "Python 3 (ipykernel)",
   "language": "python",
   "name": "python3"
  },
  "language_info": {
   "codemirror_mode": {
    "name": "ipython",
    "version": 3
   },
   "file_extension": ".py",
   "mimetype": "text/x-python",
   "name": "python",
   "nbconvert_exporter": "python",
   "pygments_lexer": "ipython3",
   "version": "3.9.7"
  }
 },
 "nbformat": 4,
 "nbformat_minor": 5
}

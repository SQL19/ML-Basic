{
 "cells": [
  {
   "cell_type": "markdown",
   "id": "e59ce214-e33f-498a-bb2d-e6dce6748df2",
   "metadata": {},
   "source": [
    "## Logistic Regression\n",
    "#### - Binary, Multinominal, Ordinal\n",
    "#### - Sigmoid function\n",
    "#### - Decision boundary: linear or non-linear. Polynomial order can be increased to get complex decision boundary."
   ]
  },
  {
   "cell_type": "markdown",
   "id": "85da382d-fe19-48b4-b627-abf94c833f13",
   "metadata": {},
   "source": [
    "#### Why cost function which has been used for linear can not be used for logistic?\n",
    "\n",
    "#### Linear regression uses mean squared error as its cost function. If this is used for logistic regression, then it will be a non-convex function of parameters (theta). Gradient descent will converge into global minimum only if the function is convex."
   ]
  },
  {
   "cell_type": "code",
   "execution_count": 1,
   "id": "0cfacdb7-f21b-4bf1-bcde-1744f02243a6",
   "metadata": {},
   "outputs": [],
   "source": [
    "import numpy as np\n",
    "import pandas as pd\n",
    "import matplotlib.pyplot as plt"
   ]
  },
  {
   "cell_type": "markdown",
   "id": "5ecdbc95-0a12-4cf0-b220-4627ade2e5b9",
   "metadata": {},
   "source": [
    "#### Import Data"
   ]
  },
  {
   "cell_type": "code",
   "execution_count": 3,
   "id": "ac3d93a7-7708-461d-987b-1c846558d6ff",
   "metadata": {},
   "outputs": [
    {
     "data": {
      "text/html": [
       "<div>\n",
       "<style scoped>\n",
       "    .dataframe tbody tr th:only-of-type {\n",
       "        vertical-align: middle;\n",
       "    }\n",
       "\n",
       "    .dataframe tbody tr th {\n",
       "        vertical-align: top;\n",
       "    }\n",
       "\n",
       "    .dataframe thead th {\n",
       "        text-align: right;\n",
       "    }\n",
       "</style>\n",
       "<table border=\"1\" class=\"dataframe\">\n",
       "  <thead>\n",
       "    <tr style=\"text-align: right;\">\n",
       "      <th></th>\n",
       "      <th>Exam1</th>\n",
       "      <th>Exam2</th>\n",
       "      <th>Accepted</th>\n",
       "    </tr>\n",
       "  </thead>\n",
       "  <tbody>\n",
       "    <tr>\n",
       "      <th>0</th>\n",
       "      <td>34.623660</td>\n",
       "      <td>78.024693</td>\n",
       "      <td>0</td>\n",
       "    </tr>\n",
       "    <tr>\n",
       "      <th>1</th>\n",
       "      <td>30.286711</td>\n",
       "      <td>43.894998</td>\n",
       "      <td>0</td>\n",
       "    </tr>\n",
       "    <tr>\n",
       "      <th>2</th>\n",
       "      <td>35.847409</td>\n",
       "      <td>72.902198</td>\n",
       "      <td>0</td>\n",
       "    </tr>\n",
       "    <tr>\n",
       "      <th>3</th>\n",
       "      <td>60.182599</td>\n",
       "      <td>86.308552</td>\n",
       "      <td>1</td>\n",
       "    </tr>\n",
       "    <tr>\n",
       "      <th>4</th>\n",
       "      <td>79.032736</td>\n",
       "      <td>75.344376</td>\n",
       "      <td>1</td>\n",
       "    </tr>\n",
       "  </tbody>\n",
       "</table>\n",
       "</div>"
      ],
      "text/plain": [
       "       Exam1      Exam2  Accepted\n",
       "0  34.623660  78.024693         0\n",
       "1  30.286711  43.894998         0\n",
       "2  35.847409  72.902198         0\n",
       "3  60.182599  86.308552         1\n",
       "4  79.032736  75.344376         1"
      ]
     },
     "execution_count": 3,
     "metadata": {},
     "output_type": "execute_result"
    }
   ],
   "source": [
    "data = pd.read_csv('ex2data1.txt', names = ['Exam1', 'Exam2', 'Accepted'])\n",
    "data.head()"
   ]
  },
  {
   "cell_type": "code",
   "execution_count": 6,
   "id": "39c1b422-0e98-4060-b890-35e900877b7a",
   "metadata": {},
   "outputs": [
    {
     "data": {
      "image/png": "[encoded data removed]",
      "text/plain": [
       "<Figure size 432x288 with 1 Axes>"
      ]
     },
     "metadata": {
      "needs_background": "light"
     },
     "output_type": "display_data"
    }
   ],
   "source": [
    "fig, ax = plt.subplots()\n",
    "ax.scatter(data[data['Accepted']==0]['Exam1'], data[data['Accepted']==0]['Exam2'], c='r', marker='x', label='y=0')\n",
    "ax.scatter(data[data['Accepted']==1]['Exam1'], data[data['Accepted']==1]['Exam2'], c='b', marker='o', label='y=1')\n",
    "ax.legend()\n",
    "\n",
    "ax.set(xlabel='Exam1',\n",
    "       ylabel='Exam2')\n",
    "plt.show()"
   ]
  },
  {
   "cell_type": "markdown",
   "id": "7971ae11-5320-4907-bb34-3fc79f569adb",
   "metadata": {},
   "source": [
    "#### Implement Algorithm"
   ]
  },
  {
   "cell_type": "code",
   "execution_count": 8,
   "id": "dd25a460-5156-4b90-84f1-5e1491498350",
   "metadata": {},
   "outputs": [],
   "source": [
    "def get_Xy(data):\n",
    "    data.insert(0, 'ones', 1)\n",
    "    X = data.iloc[:, :-1]\n",
    "    y_ = data.iloc[:, -1]\n",
    "    \n",
    "    X = X.values\n",
    "    y = y_.values.reshape((len(y_),1))\n",
    "                          \n",
    "    return X, y"
   ]
  },
  {
   "cell_type": "code",
   "execution_count": 9,
   "id": "f8606263-a423-412a-857f-4a6a13d71ae1",
   "metadata": {},
   "outputs": [],
   "source": [
    "X, y = get_Xy(data)"
   ]
  },
  {
   "cell_type": "code",
   "execution_count": 10,
   "id": "c001e54a-2fb2-4e74-a703-79d2f3ea4264",
   "metadata": {},
   "outputs": [],
   "source": [
    "def sigmoid(z):\n",
    "    return 1/(1+np.exp(-z))"
   ]
  },
  {
   "cell_type": "code",
   "execution_count": 21,
   "id": "42e49414-22b5-4bc5-96c2-3ca4c6b4cfa5",
   "metadata": {},
   "outputs": [],
   "source": [
    "def lossFunction(X, y, theta):\n",
    "    s = sigmoid(X @ theta)\n",
    "    return -np.sum(y * np.log(s) + (1-y) * np.log(1-s))/len(X)"
   ]
  },
  {
   "cell_type": "code",
   "execution_count": 13,
   "id": "a01fec40-0b0a-4aa2-904d-aef07a5cf6e2",
   "metadata": {},
   "outputs": [
    {
     "data": {
      "text/plain": [
       "(3, 1)"
      ]
     },
     "execution_count": 13,
     "metadata": {},
     "output_type": "execute_result"
    }
   ],
   "source": [
    "theta = np.zeros((X.shape[1], 1))\n",
    "theta.shape"
   ]
  },
  {
   "cell_type": "code",
   "execution_count": 18,
   "id": "a81844d0-25cf-4787-9628-bb6e916f389b",
   "metadata": {},
   "outputs": [],
   "source": [
    "# gradient desent algorithm\n",
    "def gradientDescent(X, y, theta, alpha, iters, isPrint=False):\n",
    "    m = len(X)\n",
    "    loss = []\n",
    "    \n",
    "    for i in range(iters):\n",
    "        s = sigmoid(X @ theta)\n",
    "        theta = theta - (alpha/m) * X.T @ (s-y)\n",
    "        current_loss = lossFunction(X, y, theta)\n",
    "        loss.append(current_loss)\n",
    "        \n",
    "        if i%10000 == 0:\n",
    "            if isPrint:\n",
    "                print(current_loss)\n",
    "        \n",
    "    return theta, loss"
   ]
  },
  {
   "cell_type": "code",
   "execution_count": 19,
   "id": "a4e6926b-8068-4a52-b939-ebb5bb7177e0",
   "metadata": {},
   "outputs": [],
   "source": [
    "alpha = 0.004\n",
    "iters = 200000"
   ]
  },
  {
   "cell_type": "code",
   "execution_count": 24,
   "id": "04c7d2f1-b601-42d7-bbba-9b73614d1879",
   "metadata": {},
   "outputs": [],
   "source": [
    "theta_final, loss = gradientDescent(X, y, theta, alpha, iters)"
   ]
  },
  {
   "cell_type": "code",
   "execution_count": 25,
   "id": "75066cad-7cb1-432d-b3d9-89276ec483dd",
   "metadata": {},
   "outputs": [
    {
     "data": {
      "text/plain": [
       "array([[-23.77518967],\n",
       "       [  0.18691354],\n",
       "       [  0.18047183]])"
      ]
     },
     "execution_count": 25,
     "metadata": {},
     "output_type": "execute_result"
    }
   ],
   "source": [
    "theta_final"
   ]
  },
  {
   "cell_type": "code",
   "execution_count": 33,
   "id": "059f6038-4842-411f-9776-a32f6c9c08ba",
   "metadata": {},
   "outputs": [],
   "source": [
    "def predict(X, theta):\n",
    "    prob = sigmoid(X @ theta)\n",
    "    return [1 if x >= 0.5 else 0 for x in prob]"
   ]
  },
  {
   "cell_type": "code",
   "execution_count": 35,
   "id": "b5b13bbd-266c-4d2d-baf2-ae59cba13915",
   "metadata": {},
   "outputs": [
    {
     "name": "stdout",
     "output_type": "stream",
     "text": [
      "0.86\n"
     ]
    }
   ],
   "source": [
    "# prediction accuracy\n",
    "y_pred = np.array(predict(X, theta_final))\n",
    "y_pred = y_pred.reshape(len(y_pred), 1)\n",
    "\n",
    "acc = np.mean(y_pred == y)\n",
    "print(acc)"
   ]
  },
  {
   "cell_type": "markdown",
   "id": "5baf35bb-2ab9-4b47-b351-6f16d92ca0e1",
   "metadata": {},
   "source": [
    "#### Decision Boundary"
   ]
  },
  {
   "cell_type": "code",
   "execution_count": 26,
   "id": "fdd7f101-9761-427c-8bd9-48d5b29778fc",
   "metadata": {},
   "outputs": [],
   "source": [
    "# plot boundary theta0 + theta1 * x1 + theta2 * x2 = 0\n",
    "coef1 = -theta_final[0,0] / theta_final[2,0]\n",
    "coef2 = -theta_final[1,0] / theta_final[2,0]"
   ]
  },
  {
   "cell_type": "code",
   "execution_count": 28,
   "id": "a013b7dc-494c-4541-a403-6d81c06c25b4",
   "metadata": {},
   "outputs": [],
   "source": [
    "x = np.linspace(20,100,100)\n",
    "f = coef1 + coef2 * x"
   ]
  },
  {
   "cell_type": "code",
   "execution_count": 29,
   "id": "d34d276b-4c3c-4634-9337-72dabed70de4",
   "metadata": {},
   "outputs": [
    {
     "data": {
      "image/png": "[encoded data removed]",
      "text/plain": [
       "<Figure size 432x288 with 1 Axes>"
      ]
     },
     "metadata": {
      "needs_background": "light"
     },
     "output_type": "display_data"
    }
   ],
   "source": [
    "fig, ax = plt.subplots()\n",
    "ax.scatter(data[data['Accepted']==0]['Exam1'], data[data['Accepted']==0]['Exam2'], c='r', marker='x', label='y=0')\n",
    "ax.scatter(data[data['Accepted']==1]['Exam1'], data[data['Accepted']==1]['Exam2'], c='b', marker='o', label='y=1')\n",
    "ax.plot(x, f, c='g')\n",
    "ax.legend()\n",
    "\n",
    "ax.set(xlabel='Exam1',\n",
    "       ylabel='Exam2')\n",
    "plt.show()"
   ]
  },
  {
   "cell_type": "code",
   "execution_count": null,
   "id": "f1ed5df0-8288-4b83-951c-3834209660f6",
   "metadata": {},
   "outputs": [],
   "source": []
  }
 ],
 "metadata": {
  "kernelspec": {
   "display_name": "Python 3 (ipykernel)",
   "language": "python",
   "name": "python3"
  },
  "language_info": {
   "codemirror_mode": {
    "name": "ipython",
    "version": 3
   },
   "file_extension": ".py",
   "mimetype": "text/x-python",
   "name": "python",
   "nbconvert_exporter": "python",
   "pygments_lexer": "ipython3",
   "version": "3.9.7"
  }
 },
 "nbformat": 4,
 "nbformat_minor": 5
}

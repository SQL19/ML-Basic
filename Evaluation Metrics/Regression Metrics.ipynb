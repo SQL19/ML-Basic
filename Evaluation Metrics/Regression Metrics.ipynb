{
 "cells": [
  {
   "cell_type": "markdown",
   "id": "bb6c3d71-adca-46fd-abba-997f97c4335e",
   "metadata": {},
   "source": [
    "### Regression Metrics\n",
    "- mean absolute error (MAE)\n",
    "- mean squared error (MSE)\n",
    "- RMSE (root mean squared error)\n",
    "- R^2 (R-squared)"
   ]
  },
  {
   "cell_type": "markdown",
   "id": "cc3917ac-4273-441e-a8b8-29f1f52729fa",
   "metadata": {},
   "source": [
    "#### R^2 (R-squared)\n",
    "also known as the coefficient of determination.\n",
    "R-squared says how good your model fits the data. R-squared closer to 1.0 says that the model fits the data quite well, whereas closer 0 means that model isn’t that good."
   ]
  },
  {
   "cell_type": "code",
   "execution_count": null,
   "id": "cf7d434e-0d00-42d6-9309-fb53847b367a",
   "metadata": {},
   "outputs": [],
   "source": []
  }
 ],
 "metadata": {
  "kernelspec": {
   "display_name": "Python 3 (ipykernel)",
   "language": "python",
   "name": "python3"
  },
  "language_info": {
   "codemirror_mode": {
    "name": "ipython",
    "version": 3
   },
   "file_extension": ".py",
   "mimetype": "text/x-python",
   "name": "python",
   "nbconvert_exporter": "python",
   "pygments_lexer": "ipython3",
   "version": "3.9.7"
  }
 },
 "nbformat": 4,
 "nbformat_minor": 5
}

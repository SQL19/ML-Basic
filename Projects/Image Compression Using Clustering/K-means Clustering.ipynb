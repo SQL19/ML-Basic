{
 "cells": [
  {
   "cell_type": "code",
   "execution_count": 1,
   "metadata": {},
   "outputs": [],
   "source": [
    "import numpy as np\n",
    "import matplotlib.pyplot as plt"
   ]
  },
  {
   "cell_type": "code",
   "execution_count": 2,
   "metadata": {},
   "outputs": [],
   "source": [
    "#Initializing the K centers\n",
    "def init_centers(X, k):\n",
    "    from numpy.random import choice\n",
    "    samples = choice(len(X), k, replace=False)\n",
    "    return X[samples, :]"
   ]
  },
  {
   "cell_type": "code",
   "execution_count": 3,
   "metadata": {},
   "outputs": [],
   "source": [
    "#Computing the distance\n",
    "def distances(X, centers):\n",
    "    m = len(X)\n",
    "    k = len(centers)\n",
    "    S = np.empty((m, k))\n",
    "    for i in range(m):\n",
    "        d = np.linalg.norm(X[i,:]-centers, ord=2, axis=1)\n",
    "        S[i, :] = d**2\n",
    "    return S"
   ]
  },
  {
   "cell_type": "code",
   "execution_count": 4,
   "metadata": {},
   "outputs": [],
   "source": [
    "#Assign points to clusters\n",
    "def assign_cluster(S):\n",
    "    return np.argmin(S, axis=1)\n"
   ]
  },
  {
   "cell_type": "code",
   "execution_count": 5,
   "metadata": {},
   "outputs": [],
   "source": [
    "#Update the centers\n",
    "def update_centers(X, y):\n",
    "    m, d = X.shape\n",
    "    k = max(y) + 1\n",
    "    centers = np.empty((k, d))\n",
    "    for i in range(k):\n",
    "        centers[i, :] = np.mean(X[y==i, :], axis=0)\n",
    "    return centers\n"
   ]
  },
  {
   "cell_type": "code",
   "execution_count": 6,
   "metadata": {},
   "outputs": [],
   "source": [
    "#within-cluster-sum-of-squares\n",
    "def WCSS(S):\n",
    "    return np.sum(np.amin(S, axis=1))"
   ]
  },
  {
   "cell_type": "code",
   "execution_count": 7,
   "metadata": {},
   "outputs": [],
   "source": [
    "#Implement K-means algorithm\n",
    "def has_converged(old_centers, new_centers):\n",
    "    return set([tuple(x) for x in old_centers]) == set([tuple(x) for x in new_centers])\n",
    "\n",
    "def k_means(X, k):\n",
    "    converged = False\n",
    "    labels = np.zeros(len(X))\n",
    "    i = 1\n",
    "    centers = init_centers(X, k)\n",
    "    while (not converged):\n",
    "        old_centers = centers\n",
    "        S = distances(X, centers)\n",
    "        labels = assign_cluster(S)\n",
    "        centers = update_centers(X, labels)\n",
    "        converged = has_converged(old_centers, centers)\n",
    "        print('iteration', i, 'WCSS =', WCSS(S))\n",
    "        i += 1\n",
    "    return labels"
   ]
  },
  {
   "cell_type": "code",
   "execution_count": 8,
   "metadata": {},
   "outputs": [
    {
     "name": "stdout",
     "output_type": "stream",
     "text": [
      "Shape of the matrix of the image:\n",
      "(225, 225, 3)\n",
      "iteration 1 WCSS = 179918458.0\n",
      "iteration 2 WCSS = 119911952.42326121\n",
      "iteration 3 WCSS = 114535407.77521014\n",
      "iteration 4 WCSS = 101803788.60192621\n",
      "iteration 5 WCSS = 96557107.45258859\n",
      "iteration 6 WCSS = 91896941.41267008\n",
      "iteration 7 WCSS = 83594761.78612588\n",
      "iteration 8 WCSS = 68663536.46273911\n",
      "iteration 9 WCSS = 51965870.9904269\n",
      "iteration 10 WCSS = 45054541.39902536\n",
      "iteration 11 WCSS = 43417253.17478826\n",
      "iteration 12 WCSS = 43185913.60945564\n",
      "iteration 13 WCSS = 43165137.460597776\n",
      "iteration 14 WCSS = 43163355.812355906\n",
      "iteration 15 WCSS = 43163050.49951881\n",
      "iteration 16 WCSS = 43163046.895382926\n",
      "iteration 17 WCSS = 43163046.18875197\n"
     ]
    },
    {
     "data": {
      "image/png": "[encoded data removed]",
      "text/plain": [
       "<Figure size 432x288 with 1 Axes>"
      ]
     },
     "metadata": {
      "needs_background": "light"
     },
     "output_type": "display_data"
    }
   ],
   "source": [
    "#Image compression using K-means clustering\n",
    "from PIL import Image\n",
    "from matplotlib.pyplot import imshow\n",
    "%matplotlib inline\n",
    "\n",
    "img_array = np.array(Image.open('download.jpg'), dtype='int32')\n",
    "r, c, l = img_array.shape\n",
    "print('Shape of the matrix of the image:')\n",
    "print(img_array.shape)\n",
    "\n",
    "img_reshaped = np.reshape(img_array, (r*c, l), order='C')\n",
    "\n",
    "#define the number of clusters: k\n",
    "k = 3\n",
    "labels = k_means(img_reshaped, k)\n",
    "ind = np.column_stack((img_reshaped, labels))\n",
    "centers = {}\n",
    "for i in set(labels):\n",
    "    c_val = ind[ind[:, 3] == i].mean(axis=0)\n",
    "    centers[i] = c_val[:3]\n",
    "img_clustered = np.array([centers[i] for i in labels])\n",
    "img_disp = np.reshape(img_clustered, (r, c, l), order='C')\n",
    "\n",
    "def display_image(array):\n",
    "    array = array.astype(dtype='uint8')\n",
    "    img = Image.fromarray(array, 'RGB')\n",
    "    imshow(np.asarray(img))\n",
    "display_image(img_disp)\n"
   ]
  }
 ],
 "metadata": {
  "kernelspec": {
   "display_name": "Python 3 (ipykernel)",
   "language": "python",
   "name": "python3"
  },
  "language_info": {
   "codemirror_mode": {
    "name": "ipython",
    "version": 3
   },
   "file_extension": ".py",
   "mimetype": "text/x-python",
   "name": "python",
   "nbconvert_exporter": "python",
   "pygments_lexer": "ipython3",
   "version": "3.9.7"
  }
 },
 "nbformat": 4,
 "nbformat_minor": 4
}

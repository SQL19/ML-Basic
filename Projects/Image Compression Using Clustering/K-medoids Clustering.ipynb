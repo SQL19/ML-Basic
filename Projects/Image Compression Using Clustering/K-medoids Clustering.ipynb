{
 "cells": [
  {
   "cell_type": "code",
   "execution_count": 1,
   "metadata": {},
   "outputs": [],
   "source": [
    "import numpy as np\n",
    "import matplotlib.pyplot as plt"
   ]
  },
  {
   "cell_type": "code",
   "execution_count": 2,
   "metadata": {},
   "outputs": [],
   "source": [
    "#Initializing the K medoids\n",
    "def init_medoids(X, k):\n",
    "    from numpy.random import choice\n",
    "    #from numpy.random import seed\n",
    "    \n",
    "    #seed(1)\n",
    "    samples = choice(len(X), k, replace=False)\n",
    "    return X[samples, :]"
   ]
  },
  {
   "cell_type": "code",
   "execution_count": 3,
   "metadata": {},
   "outputs": [],
   "source": [
    "#Computing the distance\n",
    "#Manhattan distance: ord=1; Euclidean distance: ord=2\n",
    "def distances(X, medoids):\n",
    "    m = len(X)\n",
    "    if len(medoids.shape) == 1:\n",
    "        medoids = medoids.reshape(1, len(medoids))\n",
    "    k = len(medoids)\n",
    "    S = np.empty((m, k))\n",
    "    for i in range(m):\n",
    "        d = np.linalg.norm(X[i,:]-medoids, ord=2, axis=1)\n",
    "        S[i, :] = d**2\n",
    "    return S"
   ]
  },
  {
   "cell_type": "code",
   "execution_count": 4,
   "metadata": {},
   "outputs": [],
   "source": [
    "#Assign points to clusters\n",
    "def assign_cluster(S):\n",
    "    return np.argmin(S, axis=1)\n"
   ]
  },
  {
   "cell_type": "code",
   "execution_count": 5,
   "metadata": {},
   "outputs": [],
   "source": [
    "#Update the medoids\n",
    "import scipy.spatial.distance\n",
    "def update_medoids(X, medoids):\n",
    "    S = distances(X, medoids)\n",
    "    labels = assign_cluster(S)\n",
    "    new_medoids = medoids\n",
    "    assign_points = np.column_stack((X, labels))\n",
    "    \n",
    "    for i in set(labels):\n",
    "        cluster_points = assign_points[assign_points[:, -1]==i][:, :-1]\n",
    "        if len(medoids[i].shape) == 1:\n",
    "            a = medoids[i].reshape(1, len(medoids[i]))\n",
    "        sum_dis = np.sum(scipy.spatial.distance.cdist(cluster_points, a, 'euclidean'))\n",
    "        \n",
    "        for point in cluster_points:\n",
    "            if len(point.shape) == 1:\n",
    "                b = point.reshape(1, len(point))\n",
    "            new_dis = np.sum(scipy.spatial.distance.cdist(cluster_points, b, 'euclidean'))\n",
    "            \n",
    "            if new_dis < sum_dis:\n",
    "                sum_dis = new_dis\n",
    "                new_medoids[i] = point\n",
    "    \n",
    "    return new_medoids\n"
   ]
  },
  {
   "cell_type": "code",
   "execution_count": 6,
   "metadata": {},
   "outputs": [],
   "source": [
    "#within-cluster-sum-of-squares\n",
    "def WCSS(S):\n",
    "    return np.sum(np.amin(S, axis=1))"
   ]
  },
  {
   "cell_type": "code",
   "execution_count": 7,
   "metadata": {},
   "outputs": [],
   "source": [
    "#Implement K-medoids algorithm\n",
    "def has_converged(old_medoids, new_medoids):\n",
    "    return set([tuple(x) for x in old_medoids]) == set([tuple(x) for x in new_medoids])\n",
    "\n",
    "def k_medoids(X, k):\n",
    "    converged = False\n",
    "    labels = np.zeros(len(X))\n",
    "    i = 1\n",
    "    medoids = init_medoids(X, k)\n",
    "    while (not converged):\n",
    "        old_medoids = medoids.copy()\n",
    "        S = distances(X, medoids)\n",
    "        labels = assign_cluster(S)\n",
    "        medoids = update_medoids(X, medoids)\n",
    "        converged = has_converged(old_medoids, medoids)\n",
    "        print('iteration', i, 'WCSS =', WCSS(S))\n",
    "        i += 1\n",
    "    return labels, medoids, i"
   ]
  },
  {
   "cell_type": "code",
   "execution_count": 8,
   "metadata": {
    "scrolled": true
   },
   "outputs": [
    {
     "name": "stdout",
     "output_type": "stream",
     "text": [
      "Shape of the matrix of the image: (225, 225, 3)\n",
      "iteration 1 WCSS = 23654945.0\n",
      "iteration 2 WCSS = 11870870.0\n",
      "iteration 3 WCSS = 11493659.0\n",
      "iteration 4 WCSS = 11460458.0\n",
      "iteration 5 WCSS = 11498607.0\n",
      "iteration 6 WCSS = 11449756.0\n",
      "iteration 7 WCSS = 11440292.0\n",
      "iteration 8 WCSS = 11430436.0\n",
      "iteration 9 WCSS = 11429282.0\n",
      "iteration 10 WCSS = 11408214.0\n",
      "iteration 11 WCSS = 11384978.0\n"
     ]
    },
    {
     "data": {
      "image/png": "[encoded data removed]",
      "text/plain": [
       "<Figure size 432x288 with 1 Axes>"
      ]
     },
     "metadata": {
      "needs_background": "light"
     },
     "output_type": "display_data"
    }
   ],
   "source": [
    "#Image compression using K-medoids clustering\n",
    "from PIL import Image\n",
    "from matplotlib.pyplot import imshow\n",
    "%matplotlib inline\n",
    "\n",
    "img_array = np.array(Image.open('download.jpg'), dtype='int32')\n",
    "r, c, l = img_array.shape\n",
    "print('Shape of the matrix of the image:', img_array.shape)\n",
    "\n",
    "img_reshaped = np.reshape(img_array, (r*c, l), order='C')\n",
    "\n",
    "k = 16\n",
    "labels, medoids, iterations = k_medoids(img_reshaped, k)\n",
    "\n",
    "#ind = np.column_stack((img_reshaped, labels))\n",
    "img_clustered = np.array([medoids[i] for i in labels])\n",
    "img_disp = np.reshape(img_clustered, (r, c, l), order='C')\n",
    "\n",
    "def display_image(array):\n",
    "    array = array.astype(dtype='uint8')\n",
    "    img = Image.fromarray(array, 'RGB')\n",
    "    imshow(np.asarray(img))\n",
    "display_image(img_disp)\n"
   ]
  }
 ],
 "metadata": {
  "kernelspec": {
   "display_name": "Python 3 (ipykernel)",
   "language": "python",
   "name": "python3"
  },
  "language_info": {
   "codemirror_mode": {
    "name": "ipython",
    "version": 3
   },
   "file_extension": ".py",
   "mimetype": "text/x-python",
   "name": "python",
   "nbconvert_exporter": "python",
   "pygments_lexer": "ipython3",
   "version": "3.9.7"
  }
 },
 "nbformat": 4,
 "nbformat_minor": 4
}

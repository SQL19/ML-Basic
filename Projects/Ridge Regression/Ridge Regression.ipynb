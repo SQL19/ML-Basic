{
 "cells": [
  {
   "cell_type": "code",
   "execution_count": 1,
   "metadata": {},
   "outputs": [],
   "source": [
    "import numpy as np\n",
    "import pandas as pd\n",
    "from sklearn.model_selection import train_test_split\n",
    "from sklearn import metrics\n",
    "import matplotlib.pyplot as plt\n",
    "from sklearn.linear_model import Ridge\n",
    "from sklearn.preprocessing import PolynomialFeatures\n",
    "from sklearn.model_selection import KFold\n",
    "from sklearn.model_selection import cross_val_score\n",
    "from sklearn.metrics import mean_squared_error"
   ]
  },
  {
   "cell_type": "code",
   "execution_count": 2,
   "metadata": {},
   "outputs": [
    {
     "data": {
      "text/html": [
       "<div>\n",
       "<style scoped>\n",
       "    .dataframe tbody tr th:only-of-type {\n",
       "        vertical-align: middle;\n",
       "    }\n",
       "\n",
       "    .dataframe tbody tr th {\n",
       "        vertical-align: top;\n",
       "    }\n",
       "\n",
       "    .dataframe thead th {\n",
       "        text-align: right;\n",
       "    }\n",
       "</style>\n",
       "<table border=\"1\" class=\"dataframe\">\n",
       "  <thead>\n",
       "    <tr style=\"text-align: right;\">\n",
       "      <th></th>\n",
       "      <th>0</th>\n",
       "      <th>1</th>\n",
       "    </tr>\n",
       "  </thead>\n",
       "  <tbody>\n",
       "    <tr>\n",
       "      <th>0</th>\n",
       "      <td>0.591</td>\n",
       "      <td>24.41</td>\n",
       "    </tr>\n",
       "    <tr>\n",
       "      <th>1</th>\n",
       "      <td>4.703</td>\n",
       "      <td>54.98</td>\n",
       "    </tr>\n",
       "    <tr>\n",
       "      <th>2</th>\n",
       "      <td>9.470</td>\n",
       "      <td>89.57</td>\n",
       "    </tr>\n",
       "    <tr>\n",
       "      <th>3</th>\n",
       "      <td>11.615</td>\n",
       "      <td>114.26</td>\n",
       "    </tr>\n",
       "    <tr>\n",
       "      <th>4</th>\n",
       "      <td>12.970</td>\n",
       "      <td>133.61</td>\n",
       "    </tr>\n",
       "  </tbody>\n",
       "</table>\n",
       "</div>"
      ],
      "text/plain": [
       "        0       1\n",
       "0   0.591   24.41\n",
       "1   4.703   54.98\n",
       "2   9.470   89.57\n",
       "3  11.615  114.26\n",
       "4  12.970  133.61"
      ]
     },
     "execution_count": 2,
     "metadata": {},
     "output_type": "execute_result"
    }
   ],
   "source": [
    "data = pd.read_csv('copper-new.txt', delimiter= '\\s+', header=None)\n",
    "data.head()"
   ]
  },
  {
   "cell_type": "code",
   "execution_count": 3,
   "metadata": {},
   "outputs": [
    {
     "name": "stdout",
     "output_type": "stream",
     "text": [
      "[[2.44100000e+01 5.95848100e+02 1.45446521e+04 3.55034958e+05]\n",
      " [5.49800000e+01 3.02280040e+03 1.66193566e+05 9.13732226e+06]\n",
      " [8.95700000e+01 8.02278490e+03 7.18600843e+05 6.43650776e+07]\n",
      " [1.14260000e+02 1.30553476e+04 1.49170402e+06 1.70442101e+08]\n",
      " [1.33610000e+02 1.78516321e+04 2.38515656e+06 3.18680769e+08]]\n"
     ]
    }
   ],
   "source": [
    "x=np.array(data.iloc[:, 1]).reshape(-1,1)\n",
    "y=np.array(data.iloc[:, 0])\n",
    "\n",
    "#transform polynomial data\n",
    "x= PolynomialFeatures(degree=4, include_bias=False).fit_transform(x)\n",
    "print(x[:5,:])"
   ]
  },
  {
   "cell_type": "code",
   "execution_count": 4,
   "metadata": {},
   "outputs": [],
   "source": [
    "alpha_range = np.linspace(0.000001,0.00001,10)\n",
    "cv = KFold(n_splits=5, random_state=42, shuffle=True)\n",
    "cv_error=[]\n",
    "for i in alpha_range:\n",
    "    MSE = []\n",
    "    for train_index, test_index in cv.split(x):\n",
    "        x_train, x_test, y_train, y_test = x[train_index], x[test_index], y[train_index], y[test_index]\n",
    "        ridgereg = Ridge(alpha=i,normalize=True)\n",
    "        ridgereg.fit(x_train, y_train)\n",
    "        y_pred=ridgereg.predict(x_test)\n",
    "        MSE.append(mean_squared_error(y_test, y_pred))\n",
    "    cv_error.append(np.mean(MSE))"
   ]
  },
  {
   "cell_type": "code",
   "execution_count": 5,
   "metadata": {},
   "outputs": [],
   "source": [
    "#scores = []\n",
    "#alpha_range = np.linspace(1,10,10)\n",
    "#print(alpha_range)\n",
    "#for i in alpha_range:\n",
    "    #ridgereg = Ridge(alpha=i,normalize=True)\n",
    "    #scores.append(np.mean(cross_val_score(ridgereg, x, y, cv=5,)))"
   ]
  },
  {
   "cell_type": "code",
   "execution_count": 6,
   "metadata": {},
   "outputs": [
    {
     "data": {
      "image/png": "[encoded data removed]",
      "text/plain": [
       "<Figure size 432x288 with 1 Axes>"
      ]
     },
     "metadata": {
      "needs_background": "light"
     },
     "output_type": "display_data"
    }
   ],
   "source": [
    "plt.figure\n",
    "plt.plot(alpha_range, cv_error, '-ok')\n",
    "plt.xlabel('λ')\n",
    "plt.ylabel('CV error')\n",
    "plt.show()"
   ]
  },
  {
   "cell_type": "code",
   "execution_count": 7,
   "metadata": {},
   "outputs": [
    {
     "name": "stdout",
     "output_type": "stream",
     "text": [
      "Optimal Alpha is: 3e-06\n"
     ]
    }
   ],
   "source": [
    "optimal_alpha = alpha_range[cv_error.index(min(cv_error))]\n",
    "print('Optimal Alpha is:',optimal_alpha )\n"
   ]
  },
  {
   "cell_type": "code",
   "execution_count": 8,
   "metadata": {},
   "outputs": [
    {
     "name": "stdout",
     "output_type": "stream",
     "text": [
      "[[4.00e+02 1.60e+05 6.40e+07 2.56e+10]]\n"
     ]
    }
   ],
   "source": [
    "x_pred = np.array([400]).reshape(-1,1)\n",
    "x_pred = PolynomialFeatures(degree=4, include_bias=False).fit_transform(x_pred)\n",
    "print(x_pred)"
   ]
  },
  {
   "cell_type": "code",
   "execution_count": 9,
   "metadata": {},
   "outputs": [
    {
     "name": "stdout",
     "output_type": "stream",
     "text": [
      "coefficient is: 17.525025586824103\n"
     ]
    }
   ],
   "source": [
    "ridgereg = Ridge(alpha=optimal_alpha,normalize=True)\n",
    "#cv = KFold(n_splits=5, random_state=42, shuffle=True)\n",
    "y_pred=[]\n",
    "for train_index, test_index in cv.split(x):\n",
    "    x_train, x_test, y_train, y_test = x[train_index], x[test_index], y[train_index], y[test_index]\n",
    "    ridgereg.fit(x_train, y_train)\n",
    "    y_pred.append(float(ridgereg.predict(x_pred)))\n",
    "print('coefficient is:', np.mean(y_pred))"
   ]
  },
  {
   "cell_type": "code",
   "execution_count": null,
   "metadata": {},
   "outputs": [],
   "source": []
  }
 ],
 "metadata": {
  "kernelspec": {
   "display_name": "Python 3 (ipykernel)",
   "language": "python",
   "name": "python3"
  },
  "language_info": {
   "codemirror_mode": {
    "name": "ipython",
    "version": 3
   },
   "file_extension": ".py",
   "mimetype": "text/x-python",
   "name": "python",
   "nbconvert_exporter": "python",
   "pygments_lexer": "ipython3",
   "version": "3.9.7"
  }
 },
 "nbformat": 4,
 "nbformat_minor": 4
}

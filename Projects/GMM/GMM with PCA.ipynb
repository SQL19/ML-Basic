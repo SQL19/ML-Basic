{
 "cells": [
  {
   "cell_type": "code",
   "execution_count": 1,
   "metadata": {},
   "outputs": [],
   "source": [
    "import scipy.io\n",
    "import pandas as pd\n",
    "\n",
    "mat1 = scipy.io.loadmat('data.mat')"
   ]
  },
  {
   "cell_type": "code",
   "execution_count": 2,
   "metadata": {},
   "outputs": [],
   "source": [
    "df = pd.DataFrame(mat1['data']).T"
   ]
  },
  {
   "cell_type": "code",
   "execution_count": 3,
   "metadata": {},
   "outputs": [],
   "source": [
    "mat2 = scipy.io.loadmat('label.mat')"
   ]
  },
  {
   "cell_type": "code",
   "execution_count": 4,
   "metadata": {},
   "outputs": [],
   "source": [
    "label = pd.DataFrame(mat2['trueLabel']).T"
   ]
  },
  {
   "cell_type": "code",
   "execution_count": 5,
   "metadata": {},
   "outputs": [],
   "source": [
    "import numpy as np\n",
    "import matplotlib.pyplot as plt\n",
    "from matplotlib.pyplot import imshow\n",
    "%matplotlib inline\n",
    "\n",
    "data = df.to_numpy()"
   ]
  },
  {
   "cell_type": "code",
   "execution_count": 6,
   "metadata": {},
   "outputs": [
    {
     "data": {
      "text/plain": [
       "(1990, 5)"
      ]
     },
     "execution_count": 6,
     "metadata": {},
     "output_type": "execute_result"
    }
   ],
   "source": [
    "#PCA\n",
    "from sklearn.decomposition import PCA\n",
    "\n",
    "pca = PCA(n_components=5)\n",
    "pca_data = pca.fit_transform(data)\n",
    "pca_data.shape"
   ]
  },
  {
   "cell_type": "code",
   "execution_count": 7,
   "metadata": {},
   "outputs": [],
   "source": [
    "def initialize_clusters(X, n_clusters):\n",
    "    clusters = []\n",
    "    \n",
    "    for i in range(n_clusters):\n",
    "        cluster_i = {'pi': 1.0/n_clusters, \n",
    "                     'mu': np.random.normal(0, 0.1, X.shape[1]), \n",
    "                     'cov':np.identity(X.shape[1], dtype=np.float64)\n",
    "                     }\n",
    "        clusters.append(cluster_i)\n",
    "    return clusters"
   ]
  },
  {
   "cell_type": "code",
   "execution_count": 8,
   "metadata": {},
   "outputs": [],
   "source": [
    "#from scipy.stats import multivariate_normal\n",
    "\n",
    "def gaussian(X, mu, cov):\n",
    "    w, v = np.linalg.eig(cov)\n",
    "    ww = w.real[:] \n",
    "    vv = v.real[:, :]\n",
    "    xx = X.dot(vv)\n",
    "    mu = mu.reshape(1, -1).dot(vv)\n",
    "    \n",
    "    return (1 / (np.prod(list(ww))**0.5) * np.exp(-0.5 * np.sum((xx-mu)**2/ww.reshape(1,-1), axis=1))).reshape(-1, 1)\n",
    "    #return multivariate_normal.pdf(X, mu, vv.dot(np.diag(list(ww))).dot(vv.T)).reshape(-1, 1)"
   ]
  },
  {
   "cell_type": "code",
   "execution_count": 9,
   "metadata": {},
   "outputs": [],
   "source": [
    "def expectation(X, clusters):\n",
    "    \n",
    "    mixture = np.zeros((X.shape[0], 1), dtype=np.float64)\n",
    "    \n",
    "    for cluster in clusters:\n",
    "        pi = cluster['pi']\n",
    "        mu = cluster['mu']\n",
    "        cov = cluster['cov']\n",
    "        tau = (pi * gaussian(X, mu, cov)).astype(np.float64)\n",
    "        #tau = multivariate_normal.pdf(X, mu, cov).reshape(-1,1)\n",
    "        \n",
    "        for i in range(X.shape[0]):\n",
    "            mixture[i] += tau[i]\n",
    "        \n",
    "        cluster['tau'] = tau\n",
    "        cluster['mixture'] = mixture\n",
    "    \n",
    "    for cluster in clusters:\n",
    "        cluster['tau'] /= cluster['mixture']\n",
    "        "
   ]
  },
  {
   "cell_type": "code",
   "execution_count": 10,
   "metadata": {},
   "outputs": [],
   "source": [
    "def maximization(X, clusters):\n",
    "    \n",
    "    m, n = X.shape\n",
    "    \n",
    "    for cluster in clusters:\n",
    "        tau = cluster['tau']\n",
    "        cov = np.zeros((n, n), dtype=np.float64)\n",
    "        pi = np.sum(tau, axis=0) / m\n",
    "        mu = np.sum(tau * X, axis=0) / np.sum(tau, axis=0)\n",
    "        \n",
    "        for i in range(m):\n",
    "            d = (X[i] - mu).reshape(-1,1)\n",
    "            cov += tau[i] * np.dot(d, d.T)\n",
    "        \n",
    "        cov /= np.sum(tau, axis=0)\n",
    "        \n",
    "        cluster['pi'] = pi\n",
    "        cluster['mu'] = mu\n",
    "        cluster['cov'] = cov"
   ]
  },
  {
   "cell_type": "code",
   "execution_count": 11,
   "metadata": {},
   "outputs": [],
   "source": [
    "def likelihood(X, clusters):\n",
    "    likelihoods = np.log(np.array([cluster['mixture'] for cluster in clusters]))\n",
    "    return np.sum(likelihoods)"
   ]
  },
  {
   "cell_type": "code",
   "execution_count": 12,
   "metadata": {},
   "outputs": [],
   "source": [
    "def GMM(X, n_clusters, n_iteration):\n",
    "    clusters = initialize_clusters(X, n_clusters)\n",
    "    likelihoods = np.zeros(n_iteration)\n",
    "    \n",
    "    for i in range(n_iteration):\n",
    "        new_cluster = []\n",
    "        \n",
    "        #for cluster in clusters:\n",
    "            #new_cluster.append()\n",
    "            \n",
    "        expectation(X, clusters)\n",
    "        maximization(X, clusters)\n",
    "        likelihoods[i] = likelihood(X, clusters)\n",
    "        \n",
    "    return clusters, likelihoods"
   ]
  },
  {
   "cell_type": "code",
   "execution_count": 13,
   "metadata": {
    "scrolled": true
   },
   "outputs": [],
   "source": [
    "n_clusters = 2\n",
    "n_iteration = 20\n",
    "clusters, likelihoods = GMM(pca_data, n_clusters, n_iteration)"
   ]
  },
  {
   "cell_type": "code",
   "execution_count": 14,
   "metadata": {},
   "outputs": [
    {
     "data": {
      "image/png": "[encoded data removed]",
      "text/plain": [
       "<Figure size 432x288 with 1 Axes>"
      ]
     },
     "metadata": {
      "needs_background": "light"
     },
     "output_type": "display_data"
    }
   ],
   "source": [
    "plt.figure\n",
    "plt.plot(np.arange(1, n_iteration+1), likelihoods)\n",
    "plt.xlabel('Iteration')\n",
    "plt.ylabel('Log-Likelihood')\n",
    "plt.show()"
   ]
  },
  {
   "cell_type": "code",
   "execution_count": 15,
   "metadata": {},
   "outputs": [
    {
     "name": "stdout",
     "output_type": "stream",
     "text": [
      "weight of 1st component: [0.50685883]\n",
      "weight of 2nd component: [0.49314117]\n"
     ]
    }
   ],
   "source": [
    "pi1 = clusters[0]['pi']\n",
    "pi2 = clusters[1]['pi']\n",
    "print('weight of 1st component:', pi1)\n",
    "print('weight of 2nd component:', pi2)"
   ]
  },
  {
   "cell_type": "code",
   "execution_count": 19,
   "metadata": {},
   "outputs": [
    {
     "data": {
      "text/plain": [
       "1032"
      ]
     },
     "execution_count": 19,
     "metadata": {},
     "output_type": "execute_result"
    }
   ],
   "source": [
    "label = label.to_numpy()\n",
    "n_2 = len(label[label[:, 0] == 2])\n",
    "n_2 "
   ]
  },
  {
   "cell_type": "code",
   "execution_count": 20,
   "metadata": {},
   "outputs": [
    {
     "data": {
      "text/plain": [
       "958"
      ]
     },
     "execution_count": 20,
     "metadata": {},
     "output_type": "execute_result"
    }
   ],
   "source": [
    "n_6 = len(label[label[:, 0] == 6])\n",
    "n_6"
   ]
  },
  {
   "cell_type": "code",
   "execution_count": 22,
   "metadata": {},
   "outputs": [
    {
     "name": "stdout",
     "output_type": "stream",
     "text": [
      "GMM mis-classification rate of digit \"2\": 0.02262687413391279\n",
      "GMM mis-classification rate of digit \"6\": 0.024374670256991766\n"
     ]
    }
   ],
   "source": [
    "print('GMM mis-classification rate of digit \"2\":', float(abs(data.shape[0]*pi1 - n_2) / n_2))\n",
    "print('GMM mis-classification rate of digit \"6\":', float(abs(data.shape[0]*pi2 - n_6) / n_6))"
   ]
  },
  {
   "cell_type": "code",
   "execution_count": null,
   "metadata": {},
   "outputs": [],
   "source": []
  }
 ],
 "metadata": {
  "kernelspec": {
   "display_name": "Python 3 (ipykernel)",
   "language": "python",
   "name": "python3"
  },
  "language_info": {
   "codemirror_mode": {
    "name": "ipython",
    "version": 3
   },
   "file_extension": ".py",
   "mimetype": "text/x-python",
   "name": "python",
   "nbconvert_exporter": "python",
   "pygments_lexer": "ipython3",
   "version": "3.9.7"
  }
 },
 "nbformat": 4,
 "nbformat_minor": 4
}
